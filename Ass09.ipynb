{
 "cells": [
  {
   "cell_type": "markdown",
   "id": "7557f3f4-e673-4c4e-a579-7b4095ac3b43",
   "metadata": {},
   "source": [
    "### Create a NumPy array and perform various operations like +, -, *, and /"
   ]
  },
  {
   "cell_type": "code",
   "execution_count": 3,
   "id": "fb2f04ee-390c-467c-9b53-05bbd61b3a99",
   "metadata": {},
   "outputs": [],
   "source": [
    "import numpy as np"
   ]
  },
  {
   "cell_type": "code",
   "execution_count": 39,
   "id": "02fd8284-f40a-4653-ba11-9484d48020fd",
   "metadata": {},
   "outputs": [],
   "source": [
    "array1 = np.array([10, 20, 30, 40])\n",
    "array2 = np.array([[1, 2, 3, 4 ], [9, 4, 5, 6]])"
   ]
  },
  {
   "cell_type": "code",
   "execution_count": 40,
   "id": "2676b4a9-5984-478f-af99-59924d5067e7",
   "metadata": {},
   "outputs": [
    {
     "name": "stdout",
     "output_type": "stream",
     "text": [
      "Addition:  [[11 22 33 44]\n",
      " [19 24 35 46]]\n",
      "\n",
      "Subtraction:  [[ 9 18 27 36]\n",
      " [ 1 16 25 34]]\n",
      "\n",
      "Multiplication:  [[ 10  40  90 160]\n",
      " [ 90  80 150 240]]\n",
      "\n",
      "Division:  [[10.         10.         10.         10.        ]\n",
      " [ 1.11111111  5.          6.          6.66666667]]\n"
     ]
    }
   ],
   "source": [
    "addition = array1 + array2\n",
    "subtraction = array1 - array2\n",
    "multiplication = array1 * array2\n",
    "division = array1 / array2\n",
    "\n",
    "print(\"Addition: \", addition)\n",
    "print(\"\\nSubtraction: \", subtraction)\n",
    "print(\"\\nMultiplication: \", multiplication)\n",
    "print(\"\\nDivision: \", division)"
   ]
  },
  {
   "cell_type": "markdown",
   "id": "003551f4-fafa-4b04-b095-97062f27d1dc",
   "metadata": {},
   "source": [
    "### Explore indexing and slicing"
   ]
  },
  {
   "cell_type": "code",
   "execution_count": 41,
   "id": "7f07ebdd-aa1e-49fe-b652-19ea4cebfa51",
   "metadata": {},
   "outputs": [
    {
     "name": "stdout",
     "output_type": "stream",
     "text": [
      "Access 3rd element:       30\n",
      "Slice from index 1 to 3:  4\n"
     ]
    }
   ],
   "source": [
    "# Indexing: Access 3rd element\n",
    "print(\"Access 3rd element:      \", array1[2])\n",
    "\n",
    "#Slicing: Slice from index 1 to 3\n",
    "print(\"Slice from index 1 to 3: \", array2[1, 1])"
   ]
  },
  {
   "cell_type": "markdown",
   "id": "b459fec1-9024-4dff-85e7-32ba8cc132f0",
   "metadata": {},
   "source": [
    "### Reshaping arrays and Transposing matrices"
   ]
  },
  {
   "cell_type": "code",
   "execution_count": 50,
   "id": "0c7c5838-8f7b-442c-b604-67a423343f28",
   "metadata": {},
   "outputs": [
    {
     "name": "stdout",
     "output_type": "stream",
     "text": [
      "Reshape Array:  [[1 2]\n",
      " [3 4]\n",
      " [9 4]\n",
      " [5 6]]\n",
      "\n",
      "Transposed Array:  [[1 9]\n",
      " [2 4]\n",
      " [3 5]\n",
      " [4 6]]\n"
     ]
    }
   ],
   "source": [
    "# 4. Reshaping \n",
    "reshaped = array2.reshape(4, 2)\n",
    "print(\"Reshape Array: \", reshaped)\n",
    "\n",
    "# transposing\n",
    "transposed = array2.T\n",
    "print(\"\\nTransposed Array: \", transposed)"
   ]
  },
  {
   "cell_type": "markdown",
   "id": "f328d5b7-271a-46cb-9c7a-07bb2d6d3f7a",
   "metadata": {},
   "source": [
    "### NumPy functions to calculate statistics like mean, median, standard deviation, and variance"
   ]
  },
  {
   "cell_type": "code",
   "execution_count": 52,
   "id": "d7529879-6753-45ca-af8b-7648e406fb85",
   "metadata": {},
   "outputs": [
    {
     "name": "stdout",
     "output_type": "stream",
     "text": [
      "Mean:  4.25\n",
      "Median:  4.0\n",
      "Standard Deviation:  2.331844763272204\n",
      "Variance:  5.4375\n"
     ]
    }
   ],
   "source": [
    "mean = np.mean(array2)\n",
    "median = np.median(array2)\n",
    "std_dev = np.std(array2)\n",
    "variance = np.var(array2)\n",
    "\n",
    "print(\"Mean: \", mean)\n",
    "print(\"Median: \", median)\n",
    "print(\"Standard Deviation: \", std_dev)\n",
    "print(\"Variance: \", variance)"
   ]
  },
  {
   "cell_type": "markdown",
   "id": "ed6beda6-aa56-4c57-950c-2ca2c101a569",
   "metadata": {},
   "source": [
    "### Create arrays with different data types (e.g., int, float, bool, str)"
   ]
  },
  {
   "cell_type": "code",
   "execution_count": 62,
   "id": "82f85b09-37da-41e6-8b00-74b3c192aacd",
   "metadata": {},
   "outputs": [
    {
     "name": "stdout",
     "output_type": "stream",
     "text": [
      "Integer Data type:  int32\n",
      "Float Data type:  float64\n",
      "Boolean Data type:  bool\n",
      "String Data type:  <U1\n"
     ]
    }
   ],
   "source": [
    "int_array = np.array([1, 2, 3], dtype=int)\n",
    "float_array = np.array([1.1, 2.2, 3.3], dtype=float)\n",
    "bool_array = np.array([True, False, True], dtype=bool)\n",
    "str_array = np.array(['a', 'b', 'c'], dtype=str)\n",
    "\n",
    "print(\"Integer Data type: \", int_array.dtype)\n",
    "print(\"Float Data type: \",float_array.dtype)\n",
    "print(\"Boolean Data type: \",bool_array.dtype)\n",
    "print(\"String Data type: \",str_array.dtype)"
   ]
  },
  {
   "cell_type": "markdown",
   "id": "bf2914ee-cf1f-461e-9cf0-2b7a9d82d1a8",
   "metadata": {},
   "source": [
    "### Concatenate arrays"
   ]
  },
  {
   "cell_type": "code",
   "execution_count": 67,
   "id": "c0e37368-6287-40dd-8b80-6d1d96bb91ff",
   "metadata": {},
   "outputs": [
    {
     "name": "stdout",
     "output_type": "stream",
     "text": [
      "Concatenated Array:  [10 20 30 40  7  8  9  1]\n"
     ]
    }
   ],
   "source": [
    "concatenated = np.concatenate((array1, np.array([7, 8, 9, 1])))\n",
    "\n",
    "print(\"Concatenated Array: \", concatenated)"
   ]
  },
  {
   "cell_type": "markdown",
   "id": "c44c8bae-a2e2-42bb-8cca-cca14d2bcefc",
   "metadata": {},
   "source": [
    "### Sort arrays in ascending or descending order"
   ]
  },
  {
   "cell_type": "code",
   "execution_count": 71,
   "id": "6055b90a-4424-43db-8ba0-211ce8d76bcc",
   "metadata": {},
   "outputs": [
    {
     "name": "stdout",
     "output_type": "stream",
     "text": [
      "Sorted Ascending:  [ 1  7  8  9 10 20 30 40]\n",
      "Sorted Descending:  [40 30 20 10  9  8  7  1]\n"
     ]
    }
   ],
   "source": [
    "sorted_asc = np.sort(concatenated)\n",
    "sorted_desc = np.sort(concatenated)[::-1]\n",
    "\n",
    "\n",
    "print(\"Sorted Ascending: \", sorted_asc)\n",
    "print(\"Sorted Descending: \", sorted_desc)"
   ]
  },
  {
   "cell_type": "code",
   "execution_count": null,
   "id": "0d4d04ea-6b9a-4961-818d-3d576c098393",
   "metadata": {},
   "outputs": [],
   "source": []
  }
 ],
 "metadata": {
  "kernelspec": {
   "display_name": "Python 3 (ipykernel)",
   "language": "python",
   "name": "python3"
  },
  "language_info": {
   "codemirror_mode": {
    "name": "ipython",
    "version": 3
   },
   "file_extension": ".py",
   "mimetype": "text/x-python",
   "name": "python",
   "nbconvert_exporter": "python",
   "pygments_lexer": "ipython3",
   "version": "3.11.7"
  }
 },
 "nbformat": 4,
 "nbformat_minor": 5
}
